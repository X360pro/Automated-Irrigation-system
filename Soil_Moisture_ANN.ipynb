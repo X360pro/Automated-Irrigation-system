{
  "nbformat": 4,
  "nbformat_minor": 0,
  "metadata": {
    "colab": {
      "name": "Soil_Moisture_ANN.ipynb",
      "provenance": [],
      "collapsed_sections": []
    },
    "kernelspec": {
      "name": "python3",
      "display_name": "Python 3"
    }
  },
  "cells": [
    {
      "cell_type": "code",
      "metadata": {
        "colab": {
          "base_uri": "https://localhost:8080/"
        },
        "id": "YJ8XWd_yfpj1",
        "outputId": "ad94e45f-6323-45c3-bb09-f7af05785df6"
      },
      "source": [
        "from google.colab import drive\n",
        "drive.mount('/content/drive')"
      ],
      "execution_count": null,
      "outputs": [
        {
          "output_type": "stream",
          "text": [
            "Mounted at /content/drive\n"
          ],
          "name": "stdout"
        }
      ]
    },
    {
      "cell_type": "code",
      "metadata": {
        "id": "_CsZ-EkO6qDl"
      },
      "source": [
        "from numpy import loadtxt\n",
        "from xgboost import XGBRegressor\n",
        "from sklearn.model_selection import train_test_split\n",
        "from sklearn.metrics import accuracy_score\n",
        "from tensorflow.keras.layers import Dense, Input\n",
        "from tensorflow.keras.models import Model, Sequential\n",
        "import pandas as pd\n",
        "import numpy as np\n",
        "import matplotlib.pyplot as plt\n",
        "import seaborn as sn"
      ],
      "execution_count": null,
      "outputs": []
    },
    {
      "cell_type": "code",
      "metadata": {
        "id": "zuc3beCeXtrt"
      },
      "source": [
        "train = pd.read_csv('/content/drive/MyDrive/Soil_Moisture/Train.csv')\n",
        "train['timestamp'] = pd.to_datetime(train['timestamp'])\n",
        "train['days'] = train['timestamp'].dt.dayofyear\n",
        "train['days'] = train['days']-53\n",
        "\n",
        "train['time_of_day'] = \"lol\"\n",
        "\n",
        "for index,row in train.iterrows():\n",
        "  if(row.timestamp.hour >= 0 and row.timestamp.hour <= 6):\n",
        "    train.loc[index,'time_of_day'] = \"Midnight\"\n",
        "  elif (row.timestamp.hour >= 7 and row.timestamp.hour <= 12):\n",
        "    train.loc[index,'time_of_day'] = \"Morning\"\n",
        "  elif (row.timestamp.hour >= 13 and row.timestamp.hour <= 17):\n",
        "    train.loc[index,'time_of_day'] = \"Afternoon\"\n",
        "  elif (row.timestamp.hour >= 18 and row.timestamp.hour <= 23):\n",
        "    train.loc[index,'time_of_day'] = \"Night\"\n",
        "\n",
        "predict = train[train['Soil humidity 1'].isna()]\n",
        "train = train.dropna(subset = ['Air temperature (C)'])\n",
        "train = train.dropna()"
      ],
      "execution_count": null,
      "outputs": []
    },
    {
      "cell_type": "code",
      "metadata": {
        "colab": {
          "base_uri": "https://localhost:8080/"
        },
        "id": "VXYto28UbhdO",
        "outputId": "c509148a-4dd7-437b-d434-58244181d4e6"
      },
      "source": [
        "train['Soil humidity 1'].mean()"
      ],
      "execution_count": null,
      "outputs": [
        {
          "output_type": "execute_result",
          "data": {
            "text/plain": [
              "63.032392865155984"
            ]
          },
          "metadata": {
            "tags": []
          },
          "execution_count": 46
        }
      ]
    },
    {
      "cell_type": "code",
      "metadata": {
        "colab": {
          "base_uri": "https://localhost:8080/",
          "height": 282
        },
        "id": "NfIdxaSbqFJb",
        "outputId": "561fb68b-4d6e-4342-ddfe-b19743ea5b22"
      },
      "source": [
        "train['time_of_day'].hist()\n"
      ],
      "execution_count": null,
      "outputs": [
        {
          "output_type": "execute_result",
          "data": {
            "text/plain": [
              "<matplotlib.axes._subplots.AxesSubplot at 0x7fc3bfdb67d0>"
            ]
          },
          "metadata": {
            "tags": []
          },
          "execution_count": 10
        },
        {
          "output_type": "display_data",
          "data": {
            "image/png": "[encoded data removed]",
            "text/plain": [
              "<Figure size 432x288 with 1 Axes>"
            ]
          },
          "metadata": {
            "tags": [],
            "needs_background": "light"
          }
        }
      ]
    },
    {
      "cell_type": "code",
      "metadata": {
        "id": "saSUcvnC8kXL"
      },
      "source": [
        "X_train = train[['Air temperature (C)','Air humidity (%)','Pressure (KPa)','Wind speed (Km/h)','Wind gust (Km/h)','Wind direction (Deg)']]"
      ],
      "execution_count": null,
      "outputs": []
    },
    {
      "cell_type": "code",
      "metadata": {
        "colab": {
          "base_uri": "https://localhost:8080/",
          "height": 363
        },
        "id": "eSG9GB0J-H-A",
        "outputId": "e1c7896b-a6ad-488c-9b0b-1f776a7b0810"
      },
      "source": [
        "dataplot = sn.heatmap(train.corr(), cmap=\"YlGnBu\", annot=True)\n",
        "plt.show()"
      ],
      "execution_count": null,
      "outputs": [
        {
          "output_type": "display_data",
          "data": {
            "image/png": "[encoded data removed]",
            "text/plain": [
              "<Figure size 432x288 with 2 Axes>"
            ]
          },
          "metadata": {
            "tags": [],
            "needs_background": "light"
          }
        }
      ]
    },
    {
      "cell_type": "code",
      "metadata": {
        "id": "-qr9hR_c6upN"
      },
      "source": [
        "X_train = train[['Air temperature (C)','Air humidity (%)','Pressure (KPa)','Wind speed (Km/h)','Wind gust (Km/h)','Wind direction (Deg)','days','time_of_day']]\n",
        "Y_train = train[['Soil humidity 1']]"
      ],
      "execution_count": null,
      "outputs": []
    },
    {
      "cell_type": "code",
      "metadata": {
        "colab": {
          "base_uri": "https://localhost:8080/",
          "height": 203
        },
        "id": "pZbBLW9G7YLy",
        "outputId": "4a514cec-dc26-4a80-f617-674dcbd12c5a"
      },
      "source": [
        "X_train.head()"
      ],
      "execution_count": null,
      "outputs": [
        {
          "output_type": "execute_result",
          "data": {
            "text/html": [
              "<div>\n",
              "<style scoped>\n",
              "    .dataframe tbody tr th:only-of-type {\n",
              "        vertical-align: middle;\n",
              "    }\n",
              "\n",
              "    .dataframe tbody tr th {\n",
              "        vertical-align: top;\n",
              "    }\n",
              "\n",
              "    .dataframe thead th {\n",
              "        text-align: right;\n",
              "    }\n",
              "</style>\n",
              "<table border=\"1\" class=\"dataframe\">\n",
              "  <thead>\n",
              "    <tr style=\"text-align: right;\">\n",
              "      <th></th>\n",
              "      <th>Air temperature (C)</th>\n",
              "      <th>Air humidity (%)</th>\n",
              "      <th>Pressure (KPa)</th>\n",
              "      <th>Wind speed (Km/h)</th>\n",
              "      <th>Wind gust (Km/h)</th>\n",
              "      <th>Wind direction (Deg)</th>\n",
              "      <th>days</th>\n",
              "      <th>time_of_day</th>\n",
              "    </tr>\n",
              "  </thead>\n",
              "  <tbody>\n",
              "    <tr>\n",
              "      <th>0</th>\n",
              "      <td>19.52</td>\n",
              "      <td>55.04</td>\n",
              "      <td>101.50</td>\n",
              "      <td>2.13</td>\n",
              "      <td>6.30</td>\n",
              "      <td>225.00</td>\n",
              "      <td>1</td>\n",
              "      <td>Midnight</td>\n",
              "    </tr>\n",
              "    <tr>\n",
              "      <th>1</th>\n",
              "      <td>19.49</td>\n",
              "      <td>55.17</td>\n",
              "      <td>101.50</td>\n",
              "      <td>2.01</td>\n",
              "      <td>10.46</td>\n",
              "      <td>123.75</td>\n",
              "      <td>1</td>\n",
              "      <td>Midnight</td>\n",
              "    </tr>\n",
              "    <tr>\n",
              "      <th>2</th>\n",
              "      <td>19.47</td>\n",
              "      <td>55.30</td>\n",
              "      <td>101.51</td>\n",
              "      <td>1.90</td>\n",
              "      <td>14.63</td>\n",
              "      <td>22.50</td>\n",
              "      <td>1</td>\n",
              "      <td>Midnight</td>\n",
              "    </tr>\n",
              "    <tr>\n",
              "      <th>3</th>\n",
              "      <td>19.54</td>\n",
              "      <td>54.20</td>\n",
              "      <td>101.51</td>\n",
              "      <td>2.28</td>\n",
              "      <td>16.08</td>\n",
              "      <td>123.75</td>\n",
              "      <td>1</td>\n",
              "      <td>Midnight</td>\n",
              "    </tr>\n",
              "    <tr>\n",
              "      <th>4</th>\n",
              "      <td>19.61</td>\n",
              "      <td>53.09</td>\n",
              "      <td>101.51</td>\n",
              "      <td>2.66</td>\n",
              "      <td>17.52</td>\n",
              "      <td>225.00</td>\n",
              "      <td>1</td>\n",
              "      <td>Midnight</td>\n",
              "    </tr>\n",
              "  </tbody>\n",
              "</table>\n",
              "</div>"
            ],
            "text/plain": [
              "   Air temperature (C)  Air humidity (%)  ...  days  time_of_day\n",
              "0                19.52             55.04  ...     1     Midnight\n",
              "1                19.49             55.17  ...     1     Midnight\n",
              "2                19.47             55.30  ...     1     Midnight\n",
              "3                19.54             54.20  ...     1     Midnight\n",
              "4                19.61             53.09  ...     1     Midnight\n",
              "\n",
              "[5 rows x 8 columns]"
            ]
          },
          "metadata": {
            "tags": []
          },
          "execution_count": 6
        }
      ]
    },
    {
      "cell_type": "code",
      "metadata": {
        "colab": {
          "base_uri": "https://localhost:8080/"
        },
        "id": "pZ6hGtkWq6UI",
        "outputId": "79d9bccb-1970-4214-d6d5-747a565adfa9"
      },
      "source": [
        "print(X_train.shape,Y_train.shape)"
      ],
      "execution_count": null,
      "outputs": [
        {
          "output_type": "stream",
          "text": [
            "(8914, 8) (8914, 1)\n"
          ],
          "name": "stdout"
        }
      ]
    },
    {
      "cell_type": "code",
      "metadata": {
        "id": "nQCaC56q8X64"
      },
      "source": [
        "from numpy import array\n",
        "from numpy import argmax\n",
        "from sklearn.preprocessing import LabelEncoder\n",
        "from sklearn.preprocessing import OneHotEncoder"
      ],
      "execution_count": null,
      "outputs": []
    },
    {
      "cell_type": "code",
      "metadata": {
        "id": "NBTbIFPp8nZb",
        "colab": {
          "base_uri": "https://localhost:8080/",
          "height": 417
        },
        "outputId": "33531110-1a14-44e6-e5bd-4845a5efea99"
      },
      "source": [
        "label_encoder = LabelEncoder()\n",
        "integer_encoded = label_encoder.fit_transform(X_train['time_of_day'])\n",
        "onehot_encoder = OneHotEncoder(sparse=False)\n",
        "integer_encoded = integer_encoded.reshape(len(integer_encoded), 1)\n",
        "onehot_encoded = pd.DataFrame(onehot_encoder.fit_transform(integer_encoded))\n",
        "X_train.join(onehot_encoded)"
      ],
      "execution_count": null,
      "outputs": [
        {
          "output_type": "execute_result",
          "data": {
            "text/html": [
              "<div>\n",
              "<style scoped>\n",
              "    .dataframe tbody tr th:only-of-type {\n",
              "        vertical-align: middle;\n",
              "    }\n",
              "\n",
              "    .dataframe tbody tr th {\n",
              "        vertical-align: top;\n",
              "    }\n",
              "\n",
              "    .dataframe thead th {\n",
              "        text-align: right;\n",
              "    }\n",
              "</style>\n",
              "<table border=\"1\" class=\"dataframe\">\n",
              "  <thead>\n",
              "    <tr style=\"text-align: right;\">\n",
              "      <th></th>\n",
              "      <th>Air temperature (C)</th>\n",
              "      <th>Air humidity (%)</th>\n",
              "      <th>Pressure (KPa)</th>\n",
              "      <th>Wind speed (Km/h)</th>\n",
              "      <th>Wind gust (Km/h)</th>\n",
              "      <th>Wind direction (Deg)</th>\n",
              "      <th>days</th>\n",
              "      <th>time_of_day</th>\n",
              "      <th>0</th>\n",
              "      <th>1</th>\n",
              "      <th>2</th>\n",
              "      <th>3</th>\n",
              "    </tr>\n",
              "  </thead>\n",
              "  <tbody>\n",
              "    <tr>\n",
              "      <th>0</th>\n",
              "      <td>19.52</td>\n",
              "      <td>55.04</td>\n",
              "      <td>101.50</td>\n",
              "      <td>2.13</td>\n",
              "      <td>6.30</td>\n",
              "      <td>225.00</td>\n",
              "      <td>1</td>\n",
              "      <td>Midnight</td>\n",
              "      <td>0.0</td>\n",
              "      <td>1.0</td>\n",
              "      <td>0.0</td>\n",
              "      <td>0.0</td>\n",
              "    </tr>\n",
              "    <tr>\n",
              "      <th>1</th>\n",
              "      <td>19.49</td>\n",
              "      <td>55.17</td>\n",
              "      <td>101.50</td>\n",
              "      <td>2.01</td>\n",
              "      <td>10.46</td>\n",
              "      <td>123.75</td>\n",
              "      <td>1</td>\n",
              "      <td>Midnight</td>\n",
              "      <td>0.0</td>\n",
              "      <td>1.0</td>\n",
              "      <td>0.0</td>\n",
              "      <td>0.0</td>\n",
              "    </tr>\n",
              "    <tr>\n",
              "      <th>2</th>\n",
              "      <td>19.47</td>\n",
              "      <td>55.30</td>\n",
              "      <td>101.51</td>\n",
              "      <td>1.90</td>\n",
              "      <td>14.63</td>\n",
              "      <td>22.50</td>\n",
              "      <td>1</td>\n",
              "      <td>Midnight</td>\n",
              "      <td>0.0</td>\n",
              "      <td>1.0</td>\n",
              "      <td>0.0</td>\n",
              "      <td>0.0</td>\n",
              "    </tr>\n",
              "    <tr>\n",
              "      <th>3</th>\n",
              "      <td>19.54</td>\n",
              "      <td>54.20</td>\n",
              "      <td>101.51</td>\n",
              "      <td>2.28</td>\n",
              "      <td>16.08</td>\n",
              "      <td>123.75</td>\n",
              "      <td>1</td>\n",
              "      <td>Midnight</td>\n",
              "      <td>0.0</td>\n",
              "      <td>1.0</td>\n",
              "      <td>0.0</td>\n",
              "      <td>0.0</td>\n",
              "    </tr>\n",
              "    <tr>\n",
              "      <th>4</th>\n",
              "      <td>19.61</td>\n",
              "      <td>53.09</td>\n",
              "      <td>101.51</td>\n",
              "      <td>2.66</td>\n",
              "      <td>17.52</td>\n",
              "      <td>225.00</td>\n",
              "      <td>1</td>\n",
              "      <td>Midnight</td>\n",
              "      <td>0.0</td>\n",
              "      <td>1.0</td>\n",
              "      <td>0.0</td>\n",
              "      <td>0.0</td>\n",
              "    </tr>\n",
              "    <tr>\n",
              "      <th>...</th>\n",
              "      <td>...</td>\n",
              "      <td>...</td>\n",
              "      <td>...</td>\n",
              "      <td>...</td>\n",
              "      <td>...</td>\n",
              "      <td>...</td>\n",
              "      <td>...</td>\n",
              "      <td>...</td>\n",
              "      <td>...</td>\n",
              "      <td>...</td>\n",
              "      <td>...</td>\n",
              "      <td>...</td>\n",
              "    </tr>\n",
              "    <tr>\n",
              "      <th>8909</th>\n",
              "      <td>16.23</td>\n",
              "      <td>96.00</td>\n",
              "      <td>101.26</td>\n",
              "      <td>0.54</td>\n",
              "      <td>2.42</td>\n",
              "      <td>180.00</td>\n",
              "      <td>31</td>\n",
              "      <td>Night</td>\n",
              "      <td>0.0</td>\n",
              "      <td>0.0</td>\n",
              "      <td>0.0</td>\n",
              "      <td>1.0</td>\n",
              "    </tr>\n",
              "    <tr>\n",
              "      <th>8910</th>\n",
              "      <td>16.09</td>\n",
              "      <td>96.00</td>\n",
              "      <td>101.26</td>\n",
              "      <td>0.16</td>\n",
              "      <td>1.77</td>\n",
              "      <td>180.00</td>\n",
              "      <td>31</td>\n",
              "      <td>Night</td>\n",
              "      <td>0.0</td>\n",
              "      <td>0.0</td>\n",
              "      <td>0.0</td>\n",
              "      <td>1.0</td>\n",
              "    </tr>\n",
              "    <tr>\n",
              "      <th>8911</th>\n",
              "      <td>15.96</td>\n",
              "      <td>96.00</td>\n",
              "      <td>101.28</td>\n",
              "      <td>0.16</td>\n",
              "      <td>1.60</td>\n",
              "      <td>180.00</td>\n",
              "      <td>31</td>\n",
              "      <td>Night</td>\n",
              "      <td>0.0</td>\n",
              "      <td>0.0</td>\n",
              "      <td>0.0</td>\n",
              "      <td>1.0</td>\n",
              "    </tr>\n",
              "    <tr>\n",
              "      <th>8912</th>\n",
              "      <td>15.84</td>\n",
              "      <td>96.00</td>\n",
              "      <td>101.29</td>\n",
              "      <td>0.15</td>\n",
              "      <td>1.44</td>\n",
              "      <td>180.00</td>\n",
              "      <td>31</td>\n",
              "      <td>Night</td>\n",
              "      <td>0.0</td>\n",
              "      <td>0.0</td>\n",
              "      <td>0.0</td>\n",
              "      <td>1.0</td>\n",
              "    </tr>\n",
              "    <tr>\n",
              "      <th>8913</th>\n",
              "      <td>15.72</td>\n",
              "      <td>96.00</td>\n",
              "      <td>101.30</td>\n",
              "      <td>0.08</td>\n",
              "      <td>0.72</td>\n",
              "      <td>180.00</td>\n",
              "      <td>31</td>\n",
              "      <td>Night</td>\n",
              "      <td>0.0</td>\n",
              "      <td>0.0</td>\n",
              "      <td>0.0</td>\n",
              "      <td>1.0</td>\n",
              "    </tr>\n",
              "  </tbody>\n",
              "</table>\n",
              "<p>8914 rows × 12 columns</p>\n",
              "</div>"
            ],
            "text/plain": [
              "      Air temperature (C)  Air humidity (%)  Pressure (KPa)  ...    1    2    3\n",
              "0                   19.52             55.04          101.50  ...  1.0  0.0  0.0\n",
              "1                   19.49             55.17          101.50  ...  1.0  0.0  0.0\n",
              "2                   19.47             55.30          101.51  ...  1.0  0.0  0.0\n",
              "3                   19.54             54.20          101.51  ...  1.0  0.0  0.0\n",
              "4                   19.61             53.09          101.51  ...  1.0  0.0  0.0\n",
              "...                   ...               ...             ...  ...  ...  ...  ...\n",
              "8909                16.23             96.00          101.26  ...  0.0  0.0  1.0\n",
              "8910                16.09             96.00          101.26  ...  0.0  0.0  1.0\n",
              "8911                15.96             96.00          101.28  ...  0.0  0.0  1.0\n",
              "8912                15.84             96.00          101.29  ...  0.0  0.0  1.0\n",
              "8913                15.72             96.00          101.30  ...  0.0  0.0  1.0\n",
              "\n",
              "[8914 rows x 12 columns]"
            ]
          },
          "metadata": {
            "tags": []
          },
          "execution_count": 16
        }
      ]
    },
    {
      "cell_type": "code",
      "metadata": {
        "id": "TJykefzyA-Y3"
      },
      "source": [
        "X_train = X_train.join(onehot_encoded)"
      ],
      "execution_count": null,
      "outputs": []
    },
    {
      "cell_type": "code",
      "metadata": {
        "id": "c4p7_NqngdK0"
      },
      "source": [
        "X_train.rename(columns = {1:'Midnight',0:'Afternoon',2:'Morning',3:'Night'},inplace = True)"
      ],
      "execution_count": null,
      "outputs": []
    },
    {
      "cell_type": "code",
      "metadata": {
        "colab": {
          "base_uri": "https://localhost:8080/",
          "height": 203
        },
        "id": "1IZ3e-AsgMsh",
        "outputId": "1583bb70-d3e7-4ffb-b1a7-d5517d2fee59"
      },
      "source": [
        "X_train.head()"
      ],
      "execution_count": null,
      "outputs": [
        {
          "output_type": "execute_result",
          "data": {
            "text/html": [
              "<div>\n",
              "<style scoped>\n",
              "    .dataframe tbody tr th:only-of-type {\n",
              "        vertical-align: middle;\n",
              "    }\n",
              "\n",
              "    .dataframe tbody tr th {\n",
              "        vertical-align: top;\n",
              "    }\n",
              "\n",
              "    .dataframe thead th {\n",
              "        text-align: right;\n",
              "    }\n",
              "</style>\n",
              "<table border=\"1\" class=\"dataframe\">\n",
              "  <thead>\n",
              "    <tr style=\"text-align: right;\">\n",
              "      <th></th>\n",
              "      <th>Air temperature (C)</th>\n",
              "      <th>Air humidity (%)</th>\n",
              "      <th>Pressure (KPa)</th>\n",
              "      <th>Wind speed (Km/h)</th>\n",
              "      <th>Wind gust (Km/h)</th>\n",
              "      <th>Wind direction (Deg)</th>\n",
              "      <th>days</th>\n",
              "      <th>time_of_day</th>\n",
              "      <th>Afternoon</th>\n",
              "      <th>Midnight</th>\n",
              "      <th>Morning</th>\n",
              "      <th>Night</th>\n",
              "    </tr>\n",
              "  </thead>\n",
              "  <tbody>\n",
              "    <tr>\n",
              "      <th>0</th>\n",
              "      <td>19.52</td>\n",
              "      <td>55.04</td>\n",
              "      <td>101.50</td>\n",
              "      <td>2.13</td>\n",
              "      <td>6.30</td>\n",
              "      <td>225.00</td>\n",
              "      <td>1</td>\n",
              "      <td>Midnight</td>\n",
              "      <td>0.0</td>\n",
              "      <td>1.0</td>\n",
              "      <td>0.0</td>\n",
              "      <td>0.0</td>\n",
              "    </tr>\n",
              "    <tr>\n",
              "      <th>1</th>\n",
              "      <td>19.49</td>\n",
              "      <td>55.17</td>\n",
              "      <td>101.50</td>\n",
              "      <td>2.01</td>\n",
              "      <td>10.46</td>\n",
              "      <td>123.75</td>\n",
              "      <td>1</td>\n",
              "      <td>Midnight</td>\n",
              "      <td>0.0</td>\n",
              "      <td>1.0</td>\n",
              "      <td>0.0</td>\n",
              "      <td>0.0</td>\n",
              "    </tr>\n",
              "    <tr>\n",
              "      <th>2</th>\n",
              "      <td>19.47</td>\n",
              "      <td>55.30</td>\n",
              "      <td>101.51</td>\n",
              "      <td>1.90</td>\n",
              "      <td>14.63</td>\n",
              "      <td>22.50</td>\n",
              "      <td>1</td>\n",
              "      <td>Midnight</td>\n",
              "      <td>0.0</td>\n",
              "      <td>1.0</td>\n",
              "      <td>0.0</td>\n",
              "      <td>0.0</td>\n",
              "    </tr>\n",
              "    <tr>\n",
              "      <th>3</th>\n",
              "      <td>19.54</td>\n",
              "      <td>54.20</td>\n",
              "      <td>101.51</td>\n",
              "      <td>2.28</td>\n",
              "      <td>16.08</td>\n",
              "      <td>123.75</td>\n",
              "      <td>1</td>\n",
              "      <td>Midnight</td>\n",
              "      <td>0.0</td>\n",
              "      <td>1.0</td>\n",
              "      <td>0.0</td>\n",
              "      <td>0.0</td>\n",
              "    </tr>\n",
              "    <tr>\n",
              "      <th>4</th>\n",
              "      <td>19.61</td>\n",
              "      <td>53.09</td>\n",
              "      <td>101.51</td>\n",
              "      <td>2.66</td>\n",
              "      <td>17.52</td>\n",
              "      <td>225.00</td>\n",
              "      <td>1</td>\n",
              "      <td>Midnight</td>\n",
              "      <td>0.0</td>\n",
              "      <td>1.0</td>\n",
              "      <td>0.0</td>\n",
              "      <td>0.0</td>\n",
              "    </tr>\n",
              "  </tbody>\n",
              "</table>\n",
              "</div>"
            ],
            "text/plain": [
              "   Air temperature (C)  Air humidity (%)  ...  Morning  Night\n",
              "0                19.52             55.04  ...      0.0    0.0\n",
              "1                19.49             55.17  ...      0.0    0.0\n",
              "2                19.47             55.30  ...      0.0    0.0\n",
              "3                19.54             54.20  ...      0.0    0.0\n",
              "4                19.61             53.09  ...      0.0    0.0\n",
              "\n",
              "[5 rows x 12 columns]"
            ]
          },
          "metadata": {
            "tags": []
          },
          "execution_count": 21
        }
      ]
    },
    {
      "cell_type": "code",
      "metadata": {
        "id": "JanzKQfvByjy"
      },
      "source": [
        "from sklearn.datasets import make_regression\n",
        "from sklearn.neighbors import KNeighborsRegressor\n",
        "from sklearn.preprocessing import MinMaxScaler\n",
        "scaler = MinMaxScaler(feature_range=(0, 1))"
      ],
      "execution_count": null,
      "outputs": []
    },
    {
      "cell_type": "code",
      "metadata": {
        "id": "rYqAHaQEB2Db"
      },
      "source": [
        "int_train = X_train[['Air temperature (C)','Air temperature (C)','Pressure (KPa)','Wind speed (Km/h)','Wind gust (Km/h)','Wind direction (Deg)',]]"
      ],
      "execution_count": null,
      "outputs": []
    },
    {
      "cell_type": "code",
      "metadata": {
        "id": "XVBozz-cCX44"
      },
      "source": [
        "x_train_scaled = scaler.fit_transform(int_train)\n",
        "x_train = pd.DataFrame(x_train_scaled)"
      ],
      "execution_count": null,
      "outputs": []
    },
    {
      "cell_type": "code",
      "metadata": {
        "id": "mxclGWCxCrk9"
      },
      "source": [
        "x_train = x_train.join(X_train[['days','Afternoon','Midnight','Morning','Night']])"
      ],
      "execution_count": null,
      "outputs": []
    },
    {
      "cell_type": "code",
      "metadata": {
        "colab": {
          "base_uri": "https://localhost:8080/",
          "height": 203
        },
        "id": "hvyroVRTDK4i",
        "outputId": "2d5d4f90-91e2-46a7-bf33-6ea180bdd6f6"
      },
      "source": [
        "x_train.head()"
      ],
      "execution_count": null,
      "outputs": [
        {
          "output_type": "execute_result",
          "data": {
            "text/html": [
              "<div>\n",
              "<style scoped>\n",
              "    .dataframe tbody tr th:only-of-type {\n",
              "        vertical-align: middle;\n",
              "    }\n",
              "\n",
              "    .dataframe tbody tr th {\n",
              "        vertical-align: top;\n",
              "    }\n",
              "\n",
              "    .dataframe thead th {\n",
              "        text-align: right;\n",
              "    }\n",
              "</style>\n",
              "<table border=\"1\" class=\"dataframe\">\n",
              "  <thead>\n",
              "    <tr style=\"text-align: right;\">\n",
              "      <th></th>\n",
              "      <th>0</th>\n",
              "      <th>1</th>\n",
              "      <th>2</th>\n",
              "      <th>3</th>\n",
              "      <th>4</th>\n",
              "      <th>5</th>\n",
              "      <th>days</th>\n",
              "      <th>Afternoon</th>\n",
              "      <th>Midnight</th>\n",
              "      <th>Morning</th>\n",
              "      <th>Night</th>\n",
              "    </tr>\n",
              "  </thead>\n",
              "  <tbody>\n",
              "    <tr>\n",
              "      <th>0</th>\n",
              "      <td>0.254758</td>\n",
              "      <td>0.254758</td>\n",
              "      <td>0.718750</td>\n",
              "      <td>0.071741</td>\n",
              "      <td>0.047251</td>\n",
              "      <td>0.666667</td>\n",
              "      <td>1</td>\n",
              "      <td>0.0</td>\n",
              "      <td>1.0</td>\n",
              "      <td>0.0</td>\n",
              "      <td>0.0</td>\n",
              "    </tr>\n",
              "    <tr>\n",
              "      <th>1</th>\n",
              "      <td>0.253837</td>\n",
              "      <td>0.253837</td>\n",
              "      <td>0.718750</td>\n",
              "      <td>0.067700</td>\n",
              "      <td>0.078452</td>\n",
              "      <td>0.366667</td>\n",
              "      <td>1</td>\n",
              "      <td>0.0</td>\n",
              "      <td>1.0</td>\n",
              "      <td>0.0</td>\n",
              "      <td>0.0</td>\n",
              "    </tr>\n",
              "    <tr>\n",
              "      <th>2</th>\n",
              "      <td>0.253223</td>\n",
              "      <td>0.253223</td>\n",
              "      <td>0.726563</td>\n",
              "      <td>0.063995</td>\n",
              "      <td>0.109728</td>\n",
              "      <td>0.066667</td>\n",
              "      <td>1</td>\n",
              "      <td>0.0</td>\n",
              "      <td>1.0</td>\n",
              "      <td>0.0</td>\n",
              "      <td>0.0</td>\n",
              "    </tr>\n",
              "    <tr>\n",
              "      <th>3</th>\n",
              "      <td>0.255371</td>\n",
              "      <td>0.255371</td>\n",
              "      <td>0.726563</td>\n",
              "      <td>0.076794</td>\n",
              "      <td>0.120603</td>\n",
              "      <td>0.366667</td>\n",
              "      <td>1</td>\n",
              "      <td>0.0</td>\n",
              "      <td>1.0</td>\n",
              "      <td>0.0</td>\n",
              "      <td>0.0</td>\n",
              "    </tr>\n",
              "    <tr>\n",
              "      <th>4</th>\n",
              "      <td>0.257520</td>\n",
              "      <td>0.257520</td>\n",
              "      <td>0.726563</td>\n",
              "      <td>0.089592</td>\n",
              "      <td>0.131403</td>\n",
              "      <td>0.666667</td>\n",
              "      <td>1</td>\n",
              "      <td>0.0</td>\n",
              "      <td>1.0</td>\n",
              "      <td>0.0</td>\n",
              "      <td>0.0</td>\n",
              "    </tr>\n",
              "  </tbody>\n",
              "</table>\n",
              "</div>"
            ],
            "text/plain": [
              "          0         1         2         3  ...  Afternoon  Midnight  Morning  Night\n",
              "0  0.254758  0.254758  0.718750  0.071741  ...        0.0       1.0      0.0    0.0\n",
              "1  0.253837  0.253837  0.718750  0.067700  ...        0.0       1.0      0.0    0.0\n",
              "2  0.253223  0.253223  0.726563  0.063995  ...        0.0       1.0      0.0    0.0\n",
              "3  0.255371  0.255371  0.726563  0.076794  ...        0.0       1.0      0.0    0.0\n",
              "4  0.257520  0.257520  0.726563  0.089592  ...        0.0       1.0      0.0    0.0\n",
              "\n",
              "[5 rows x 11 columns]"
            ]
          },
          "metadata": {
            "tags": []
          },
          "execution_count": 30
        }
      ]
    },
    {
      "cell_type": "code",
      "metadata": {
        "id": "E8moGaIqCFJR"
      },
      "source": [
        "###################################################################Training###################################################################"
      ],
      "execution_count": null,
      "outputs": []
    },
    {
      "cell_type": "code",
      "metadata": {
        "id": "lenfuoenKLDv"
      },
      "source": [
        "################################################################### K Nearest Neighbour ###################################################################"
      ],
      "execution_count": null,
      "outputs": []
    },
    {
      "cell_type": "code",
      "metadata": {
        "colab": {
          "base_uri": "https://localhost:8080/"
        },
        "id": "ckLZKywFpMJ2",
        "outputId": "47201e50-62a2-4198-8880-4243eedacb89"
      },
      "source": [
        "model = KNeighborsRegressor()\n",
        "model.fit(x_train, Y_train)"
      ],
      "execution_count": null,
      "outputs": [
        {
          "output_type": "execute_result",
          "data": {
            "text/plain": [
              "KNeighborsRegressor(algorithm='auto', leaf_size=30, metric='minkowski',\n",
              "                    metric_params=None, n_jobs=None, n_neighbors=5, p=2,\n",
              "                    weights='uniform')"
            ]
          },
          "metadata": {
            "tags": []
          },
          "execution_count": 31
        }
      ]
    },
    {
      "cell_type": "code",
      "metadata": {
        "id": "dRKYCr56qZMX"
      },
      "source": [
        "predicted_op = model.predict(x_train)"
      ],
      "execution_count": null,
      "outputs": []
    },
    {
      "cell_type": "code",
      "metadata": {
        "colab": {
          "base_uri": "https://localhost:8080/"
        },
        "id": "dH7WqLsUpMCh",
        "outputId": "a40a89f5-48ac-4c82-eb92-3ec4bc4a7b12"
      },
      "source": [
        "print(predicted_op)"
      ],
      "execution_count": null,
      "outputs": [
        {
          "output_type": "stream",
          "text": [
            "[[67.724]\n",
            " [67.762]\n",
            " [67.794]\n",
            " ...\n",
            " [39.668]\n",
            " [39.668]\n",
            " [39.668]]\n"
          ],
          "name": "stdout"
        }
      ]
    },
    {
      "cell_type": "code",
      "metadata": {
        "id": "SJXTOe-ksrtc"
      },
      "source": [
        "from sklearn.metrics import mean_squared_error\n",
        "\n",
        "rms = mean_squared_error(Y_train, predicted_op, squared=False)"
      ],
      "execution_count": null,
      "outputs": []
    },
    {
      "cell_type": "code",
      "metadata": {
        "colab": {
          "base_uri": "https://localhost:8080/"
        },
        "id": "db04wM1njUpt",
        "outputId": "e4312924-494b-4207-f8c7-44458a0a8448"
      },
      "source": [
        "print(rms)"
      ],
      "execution_count": null,
      "outputs": [
        {
          "output_type": "stream",
          "text": [
            "0.18514935726676987\n"
          ],
          "name": "stdout"
        }
      ]
    },
    {
      "cell_type": "code",
      "metadata": {
        "id": "Ra5sCFDZpL8t"
      },
      "source": [
        "###################################################################XG Boost###################################################################"
      ],
      "execution_count": null,
      "outputs": []
    },
    {
      "cell_type": "code",
      "metadata": {
        "id": "g_1uFx61FCGI"
      },
      "source": [
        "from sklearn.multioutput import MultiOutputRegressor\n",
        "from xgboost import XGBRegressor"
      ],
      "execution_count": null,
      "outputs": []
    },
    {
      "cell_type": "code",
      "metadata": {
        "colab": {
          "base_uri": "https://localhost:8080/"
        },
        "id": "ceirUUDiCFG9",
        "outputId": "40128597-8fff-4637-c1b5-4ec8b4c7da3a"
      },
      "source": [
        "model = XGBRegressor(objective ='reg:squarederror', verbosity = 0, random_state=42)\n",
        "wrapper = MultiOutputRegressor(model)\n",
        "wrapper.fit(x_train,Y_train)"
      ],
      "execution_count": null,
      "outputs": [
        {
          "output_type": "execute_result",
          "data": {
            "text/plain": [
              "MultiOutputRegressor(estimator=XGBRegressor(base_score=0.5, booster='gbtree',\n",
              "                                            colsample_bylevel=1,\n",
              "                                            colsample_bynode=1,\n",
              "                                            colsample_bytree=1, gamma=0,\n",
              "                                            importance_type='gain',\n",
              "                                            learning_rate=0.1, max_delta_step=0,\n",
              "                                            max_depth=3, min_child_weight=1,\n",
              "                                            missing=None, n_estimators=100,\n",
              "                                            n_jobs=1, nthread=None,\n",
              "                                            objective='reg:squarederror',\n",
              "                                            random_state=42, reg_alpha=0,\n",
              "                                            reg_lambda=1, scale_pos_weight=1,\n",
              "                                            seed=None, silent=None, subsample=1,\n",
              "                                            verbosity=0),\n",
              "                     n_jobs=None)"
            ]
          },
          "metadata": {
            "tags": []
          },
          "execution_count": 38
        }
      ]
    },
    {
      "cell_type": "code",
      "metadata": {
        "id": "j24pH_kTCE-C",
        "colab": {
          "base_uri": "https://localhost:8080/"
        },
        "outputId": "b20f1eaf-867e-4096-e2fa-7dfe2f79b9f3"
      },
      "source": [
        "predicted_op = wrapper.predict(x_train)\n",
        "print(predicted_op)"
      ],
      "execution_count": null,
      "outputs": [
        {
          "output_type": "stream",
          "text": [
            "[[67.16451 ]\n",
            " [66.411156]\n",
            " [66.11024 ]\n",
            " ...\n",
            " [39.611797]\n",
            " [39.470848]\n",
            " [39.470848]]\n"
          ],
          "name": "stdout"
        }
      ]
    },
    {
      "cell_type": "code",
      "metadata": {
        "id": "T2xgdwZHCE7u"
      },
      "source": [
        "from sklearn.metrics import mean_squared_error\n",
        "\n",
        "rms = mean_squared_error(Y_train, predicted_op, squared=False)"
      ],
      "execution_count": null,
      "outputs": []
    },
    {
      "cell_type": "code",
      "metadata": {
        "colab": {
          "base_uri": "https://localhost:8080/"
        },
        "id": "7FL35SBTEpZe",
        "outputId": "434c8522-21d1-4009-936e-7925df3b7e9a"
      },
      "source": [
        "print(rms)"
      ],
      "execution_count": null,
      "outputs": [
        {
          "output_type": "stream",
          "text": [
            "2.3456572835598086\n"
          ],
          "name": "stdout"
        }
      ]
    },
    {
      "cell_type": "code",
      "metadata": {
        "id": "ZP9UEy6PCE5C"
      },
      "source": [
        "###################################################################Light GBM###################################################################"
      ],
      "execution_count": null,
      "outputs": []
    },
    {
      "cell_type": "code",
      "metadata": {
        "id": "dfNMALTmnFXi"
      },
      "source": [
        "from numpy import mean\n",
        "from numpy import std\n",
        "from sklearn.datasets import make_regression\n",
        "from lightgbm import LGBMRegressor\n",
        "from sklearn.model_selection import cross_val_score\n",
        "from sklearn.model_selection import RepeatedKFold\n",
        "from matplotlib import pyplot"
      ],
      "execution_count": null,
      "outputs": []
    },
    {
      "cell_type": "code",
      "metadata": {
        "id": "sMDjnTy6opN_"
      },
      "source": [
        "from sklearn.metrics import mean_squared_error"
      ],
      "execution_count": null,
      "outputs": []
    },
    {
      "cell_type": "code",
      "metadata": {
        "colab": {
          "base_uri": "https://localhost:8080/"
        },
        "id": "kKqHoYDjF2_k",
        "outputId": "26eef0ed-15d5-4241-a3a8-501c459cc009"
      },
      "source": [
        "cv = RepeatedKFold(n_splits=10, n_repeats=3, random_state=1)\n",
        "n_scores = cross_val_score(model, x_train, Y_train, scoring='neg_mean_absolute_error', cv=cv, n_jobs=-1, error_score='raise')\n",
        "print('MAE: %.3f (%.3f)' % (mean(n_scores), std(n_scores)))\n",
        "# fit the model on the whole dataset\n",
        "model = LGBMRegressor()\n",
        "model.fit(x_train, Y_train)"
      ],
      "execution_count": null,
      "outputs": [
        {
          "output_type": "stream",
          "text": [
            "MAE: -0.552 (0.026)\n"
          ],
          "name": "stdout"
        },
        {
          "output_type": "execute_result",
          "data": {
            "text/plain": [
              "LGBMRegressor(boosting_type='gbdt', class_weight=None, colsample_bytree=1.0,\n",
              "              importance_type='split', learning_rate=0.1, max_depth=-1,\n",
              "              min_child_samples=20, min_child_weight=0.001, min_split_gain=0.0,\n",
              "              n_estimators=100, n_jobs=-1, num_leaves=31, objective=None,\n",
              "              random_state=None, reg_alpha=0.0, reg_lambda=0.0, silent=True,\n",
              "              subsample=1.0, subsample_for_bin=200000, subsample_freq=0)"
            ]
          },
          "metadata": {
            "tags": []
          },
          "execution_count": 49
        }
      ]
    },
    {
      "cell_type": "code",
      "metadata": {
        "id": "WAN1KY6Cp8EE"
      },
      "source": [
        "predicted_op = model.predict(x_train)"
      ],
      "execution_count": null,
      "outputs": []
    },
    {
      "cell_type": "code",
      "metadata": {
        "id": "S0xAxdXWqC6H",
        "colab": {
          "base_uri": "https://localhost:8080/"
        },
        "outputId": "629edd64-8669-44ae-b9dc-a96508a5d08b"
      },
      "source": [
        "print(predicted_op)"
      ],
      "execution_count": null,
      "outputs": [
        {
          "output_type": "stream",
          "text": [
            "[67.45631612 67.29451672 67.65806384 ... 40.09511451 40.09511451\n",
            " 40.09511451]\n"
          ],
          "name": "stdout"
        }
      ]
    },
    {
      "cell_type": "code",
      "metadata": {
        "colab": {
          "base_uri": "https://localhost:8080/"
        },
        "id": "SqVqE4dBqavt",
        "outputId": "4aab7095-30bc-40ba-ff4c-d48c4e8e0c8d"
      },
      "source": [
        "rms = mean_squared_error(Y_train, predicted_op, squared=False)\n",
        "print(rms)"
      ],
      "execution_count": null,
      "outputs": [
        {
          "output_type": "stream",
          "text": [
            "0.6848275531380317\n"
          ],
          "name": "stdout"
        }
      ]
    },
    {
      "cell_type": "code",
      "metadata": {
        "id": "_zG1rpwVq2uv"
      },
      "source": [
        ""
      ],
      "execution_count": null,
      "outputs": []
    },
    {
      "cell_type": "code",
      "metadata": {
        "id": "7tMNo08-q2qt"
      },
      "source": [
        "##################################################################### Neural Network ################################################################################"
      ],
      "execution_count": null,
      "outputs": []
    },
    {
      "cell_type": "code",
      "metadata": {
        "colab": {
          "base_uri": "https://localhost:8080/"
        },
        "id": "Sr471C5Ovd-S",
        "outputId": "4608615f-8430-44b8-aed7-0338c005ae76"
      },
      "source": [
        "y_train.loc[3024]"
      ],
      "execution_count": null,
      "outputs": [
        {
          "output_type": "execute_result",
          "data": {
            "text/plain": [
              "66.48"
            ]
          },
          "metadata": {
            "tags": []
          },
          "execution_count": 24
        }
      ]
    },
    {
      "cell_type": "code",
      "metadata": {
        "id": "uuof3uiapuzL"
      },
      "source": [
        "# Regression Example With Boston Dataset: Baseline\n",
        "from pandas import read_csv\n",
        "from keras.models import Sequential\n",
        "from keras.layers import Dense\n",
        "from keras.wrappers.scikit_learn import KerasRegressor\n",
        "from sklearn.model_selection import cross_val_score\n",
        "from sklearn.model_selection import KFold"
      ],
      "execution_count": null,
      "outputs": []
    },
    {
      "cell_type": "code",
      "metadata": {
        "colab": {
          "base_uri": "https://localhost:8080/"
        },
        "id": "2YSjq-i0PfXh",
        "outputId": "96ca5be2-0299-4ce6-e534-a1f0c65ff050"
      },
      "source": [
        "model_1 = Sequential()\n",
        "\n",
        "# Adding the input layer and the first hidden layer\n",
        "model_1.add(Dense(32, activation = 'relu', input_dim = 11))\n",
        "\n",
        "# Adding the second hidden layer\n",
        "model_1.add(Dense(units = 20, activation = 'relu'))\n",
        "\n",
        "# Adding the third hidden layer\n",
        "model_1.add(Dense(units = 32, activation = 'relu'))\n",
        "\n",
        "model_1.add(Dense(units = 32, activation = 'relu'))\n",
        "\n",
        "model_1.add(Dense(units = 20, activation = 'relu'))\n",
        "\n",
        "model_1.add(Dense(units = 20, activation = 'relu'))\n",
        "\n",
        "model_1.add(Dense(units = 32, activation = 'relu'))\n",
        "\n",
        "# Adding the output layer\n",
        "model_1.add(Dense(units = 1))\n",
        "\n",
        "model_1.compile(optimizer = 'adam',loss = 'mean_squared_error')\n",
        "model_1.fit(x_train, Y_train, batch_size = 5, epochs = 100)"
      ],
      "execution_count": null,
      "outputs": [
        {
          "output_type": "stream",
          "text": [
            "Epoch 1/100\n",
            "1783/1783 [==============================] - 4s 2ms/step - loss: 658.9857\n",
            "Epoch 2/100\n",
            "1783/1783 [==============================] - 3s 2ms/step - loss: 53.7526\n",
            "Epoch 3/100\n",
            "1783/1783 [==============================] - 3s 2ms/step - loss: 36.5546\n",
            "Epoch 4/100\n",
            "1783/1783 [==============================] - 3s 2ms/step - loss: 33.2085\n",
            "Epoch 5/100\n",
            "1783/1783 [==============================] - 3s 2ms/step - loss: 31.0891\n",
            "Epoch 6/100\n",
            "1783/1783 [==============================] - 3s 2ms/step - loss: 29.5271\n",
            "Epoch 7/100\n",
            "1783/1783 [==============================] - 3s 2ms/step - loss: 28.0973\n",
            "Epoch 8/100\n",
            "1783/1783 [==============================] - 3s 2ms/step - loss: 26.3162\n",
            "Epoch 9/100\n",
            "1783/1783 [==============================] - 3s 2ms/step - loss: 26.3174\n",
            "Epoch 10/100\n",
            "1783/1783 [==============================] - 3s 2ms/step - loss: 26.4606\n",
            "Epoch 11/100\n",
            "1783/1783 [==============================] - 3s 2ms/step - loss: 26.0716\n",
            "Epoch 12/100\n",
            "1783/1783 [==============================] - 3s 2ms/step - loss: 24.7837\n",
            "Epoch 13/100\n",
            "1783/1783 [==============================] - 3s 2ms/step - loss: 23.6188\n",
            "Epoch 14/100\n",
            "1783/1783 [==============================] - 3s 2ms/step - loss: 24.6838\n",
            "Epoch 15/100\n",
            "1783/1783 [==============================] - 3s 2ms/step - loss: 21.5677\n",
            "Epoch 16/100\n",
            "1783/1783 [==============================] - 3s 2ms/step - loss: 19.6315\n",
            "Epoch 17/100\n",
            "1783/1783 [==============================] - 3s 2ms/step - loss: 18.7854\n",
            "Epoch 18/100\n",
            "1783/1783 [==============================] - 3s 2ms/step - loss: 18.8777\n",
            "Epoch 19/100\n",
            "1783/1783 [==============================] - 3s 2ms/step - loss: 16.7398\n",
            "Epoch 20/100\n",
            "1783/1783 [==============================] - 3s 2ms/step - loss: 14.8315\n",
            "Epoch 21/100\n",
            "1783/1783 [==============================] - 3s 2ms/step - loss: 15.7654\n",
            "Epoch 22/100\n",
            "1783/1783 [==============================] - 3s 2ms/step - loss: 14.1859\n",
            "Epoch 23/100\n",
            "1783/1783 [==============================] - 3s 2ms/step - loss: 13.4456\n",
            "Epoch 24/100\n",
            "1783/1783 [==============================] - 3s 2ms/step - loss: 13.7131\n",
            "Epoch 25/100\n",
            "1783/1783 [==============================] - 3s 2ms/step - loss: 13.8000\n",
            "Epoch 26/100\n",
            "1783/1783 [==============================] - 3s 2ms/step - loss: 12.8625\n",
            "Epoch 27/100\n",
            "1783/1783 [==============================] - 3s 2ms/step - loss: 15.3255\n",
            "Epoch 28/100\n",
            "1783/1783 [==============================] - 3s 2ms/step - loss: 12.2095\n",
            "Epoch 29/100\n",
            "1783/1783 [==============================] - 3s 2ms/step - loss: 12.6240\n",
            "Epoch 30/100\n",
            "1783/1783 [==============================] - 3s 2ms/step - loss: 16.5536\n",
            "Epoch 31/100\n",
            "1783/1783 [==============================] - 3s 2ms/step - loss: 10.7421\n",
            "Epoch 32/100\n",
            "1783/1783 [==============================] - 3s 2ms/step - loss: 12.5491\n",
            "Epoch 33/100\n",
            "1783/1783 [==============================] - 3s 2ms/step - loss: 10.8042\n",
            "Epoch 34/100\n",
            "1783/1783 [==============================] - 3s 2ms/step - loss: 11.4921\n",
            "Epoch 35/100\n",
            "1783/1783 [==============================] - 3s 2ms/step - loss: 11.9511\n",
            "Epoch 36/100\n",
            "1783/1783 [==============================] - 3s 2ms/step - loss: 11.2800\n",
            "Epoch 37/100\n",
            "1783/1783 [==============================] - 3s 2ms/step - loss: 9.8716\n",
            "Epoch 38/100\n",
            "1783/1783 [==============================] - 3s 2ms/step - loss: 10.9524\n",
            "Epoch 39/100\n",
            "1783/1783 [==============================] - 3s 2ms/step - loss: 11.7426\n",
            "Epoch 40/100\n",
            "1783/1783 [==============================] - 3s 2ms/step - loss: 9.7506\n",
            "Epoch 41/100\n",
            "1783/1783 [==============================] - 3s 2ms/step - loss: 10.4552\n",
            "Epoch 42/100\n",
            "1783/1783 [==============================] - 3s 2ms/step - loss: 9.5304\n",
            "Epoch 43/100\n",
            "1783/1783 [==============================] - 3s 2ms/step - loss: 11.3211\n",
            "Epoch 44/100\n",
            "1783/1783 [==============================] - 3s 2ms/step - loss: 10.7159\n",
            "Epoch 45/100\n",
            "1783/1783 [==============================] - 3s 2ms/step - loss: 10.8276\n",
            "Epoch 46/100\n",
            "1783/1783 [==============================] - 3s 2ms/step - loss: 10.5231\n",
            "Epoch 47/100\n",
            "1783/1783 [==============================] - 3s 2ms/step - loss: 12.2490\n",
            "Epoch 48/100\n",
            "1783/1783 [==============================] - 3s 2ms/step - loss: 9.6842\n",
            "Epoch 49/100\n",
            "1783/1783 [==============================] - 3s 2ms/step - loss: 7.6593\n",
            "Epoch 50/100\n",
            "1783/1783 [==============================] - 3s 2ms/step - loss: 11.5887\n",
            "Epoch 51/100\n",
            "1783/1783 [==============================] - 3s 2ms/step - loss: 9.1867\n",
            "Epoch 52/100\n",
            "1783/1783 [==============================] - 3s 2ms/step - loss: 11.0794\n",
            "Epoch 53/100\n",
            "1783/1783 [==============================] - 3s 2ms/step - loss: 8.5500\n",
            "Epoch 54/100\n",
            "1783/1783 [==============================] - 3s 2ms/step - loss: 9.5149\n",
            "Epoch 55/100\n",
            "1783/1783 [==============================] - 3s 2ms/step - loss: 9.8186\n",
            "Epoch 56/100\n",
            "1783/1783 [==============================] - 3s 2ms/step - loss: 9.7480\n",
            "Epoch 57/100\n",
            "1783/1783 [==============================] - 3s 2ms/step - loss: 10.4826\n",
            "Epoch 58/100\n",
            "1783/1783 [==============================] - 3s 2ms/step - loss: 8.5699\n",
            "Epoch 59/100\n",
            "1783/1783 [==============================] - 3s 2ms/step - loss: 7.4386\n",
            "Epoch 60/100\n",
            "1783/1783 [==============================] - 3s 2ms/step - loss: 7.6213\n",
            "Epoch 61/100\n",
            "1783/1783 [==============================] - 3s 2ms/step - loss: 8.7975\n",
            "Epoch 62/100\n",
            "1783/1783 [==============================] - 3s 2ms/step - loss: 9.0161\n",
            "Epoch 63/100\n",
            "1783/1783 [==============================] - 3s 2ms/step - loss: 7.7719\n",
            "Epoch 64/100\n",
            "1783/1783 [==============================] - 3s 2ms/step - loss: 7.5676\n",
            "Epoch 65/100\n",
            "1783/1783 [==============================] - 3s 2ms/step - loss: 7.4277\n",
            "Epoch 66/100\n",
            "1783/1783 [==============================] - 3s 2ms/step - loss: 7.6015\n",
            "Epoch 67/100\n",
            "1783/1783 [==============================] - 3s 2ms/step - loss: 6.8291\n",
            "Epoch 68/100\n",
            "1783/1783 [==============================] - 3s 2ms/step - loss: 8.0481\n",
            "Epoch 69/100\n",
            "1783/1783 [==============================] - 3s 2ms/step - loss: 6.6303\n",
            "Epoch 70/100\n",
            "1783/1783 [==============================] - 3s 2ms/step - loss: 10.0628\n",
            "Epoch 71/100\n",
            "1783/1783 [==============================] - 3s 2ms/step - loss: 8.5769\n",
            "Epoch 72/100\n",
            "1783/1783 [==============================] - 3s 2ms/step - loss: 6.5026\n",
            "Epoch 73/100\n",
            "1783/1783 [==============================] - 3s 2ms/step - loss: 6.3015\n",
            "Epoch 74/100\n",
            "1783/1783 [==============================] - 3s 2ms/step - loss: 8.6257\n",
            "Epoch 75/100\n",
            "1783/1783 [==============================] - 3s 2ms/step - loss: 7.4384\n",
            "Epoch 76/100\n",
            "1783/1783 [==============================] - 3s 2ms/step - loss: 6.8635\n",
            "Epoch 77/100\n",
            "1783/1783 [==============================] - 3s 2ms/step - loss: 7.1173\n",
            "Epoch 78/100\n",
            "1783/1783 [==============================] - 3s 2ms/step - loss: 6.1221\n",
            "Epoch 79/100\n",
            "1783/1783 [==============================] - 3s 2ms/step - loss: 6.2261\n",
            "Epoch 80/100\n",
            "1783/1783 [==============================] - 3s 2ms/step - loss: 7.2488\n",
            "Epoch 81/100\n",
            "1783/1783 [==============================] - 3s 2ms/step - loss: 8.0365\n",
            "Epoch 82/100\n",
            "1783/1783 [==============================] - 3s 2ms/step - loss: 6.9971\n",
            "Epoch 83/100\n",
            "1783/1783 [==============================] - 3s 2ms/step - loss: 6.7726\n",
            "Epoch 84/100\n",
            "1783/1783 [==============================] - 3s 2ms/step - loss: 7.4092\n",
            "Epoch 85/100\n",
            "1783/1783 [==============================] - 3s 2ms/step - loss: 5.7858\n",
            "Epoch 86/100\n",
            "1783/1783 [==============================] - 3s 2ms/step - loss: 6.0650\n",
            "Epoch 87/100\n",
            "1783/1783 [==============================] - 3s 2ms/step - loss: 5.0343\n",
            "Epoch 88/100\n",
            "1783/1783 [==============================] - 3s 2ms/step - loss: 7.6859\n",
            "Epoch 89/100\n",
            "1783/1783 [==============================] - 3s 2ms/step - loss: 8.0716\n",
            "Epoch 90/100\n",
            "1783/1783 [==============================] - 3s 2ms/step - loss: 5.4721\n",
            "Epoch 91/100\n",
            "1783/1783 [==============================] - 3s 2ms/step - loss: 10.1657\n",
            "Epoch 92/100\n",
            "1783/1783 [==============================] - 3s 2ms/step - loss: 5.3957\n",
            "Epoch 93/100\n",
            "1783/1783 [==============================] - 3s 2ms/step - loss: 12.9834\n",
            "Epoch 94/100\n",
            "1783/1783 [==============================] - 3s 2ms/step - loss: 5.7453\n",
            "Epoch 95/100\n",
            "1783/1783 [==============================] - 3s 2ms/step - loss: 6.1519\n",
            "Epoch 96/100\n",
            "1783/1783 [==============================] - 3s 2ms/step - loss: 5.2020\n",
            "Epoch 97/100\n",
            "1783/1783 [==============================] - 3s 2ms/step - loss: 5.0470\n",
            "Epoch 98/100\n",
            "1783/1783 [==============================] - 3s 2ms/step - loss: 5.8733\n",
            "Epoch 99/100\n",
            "1783/1783 [==============================] - 3s 2ms/step - loss: 4.9227\n",
            "Epoch 100/100\n",
            "1783/1783 [==============================] - 3s 2ms/step - loss: 7.3345\n"
          ],
          "name": "stdout"
        },
        {
          "output_type": "execute_result",
          "data": {
            "text/plain": [
              "<keras.callbacks.History at 0x7f01cc530a50>"
            ]
          },
          "metadata": {
            "tags": []
          },
          "execution_count": 95
        }
      ]
    },
    {
      "cell_type": "code",
      "metadata": {
        "id": "fsaCsrOFrFOm"
      },
      "source": [
        "predictions = model_1.predict(x_train)"
      ],
      "execution_count": null,
      "outputs": []
    },
    {
      "cell_type": "code",
      "metadata": {
        "colab": {
          "base_uri": "https://localhost:8080/"
        },
        "id": "bQUxz3BDQ8ZS",
        "outputId": "62ef550a-0183-4218-b993-ce3632bfafca"
      },
      "source": [
        "predictions[3024]"
      ],
      "execution_count": null,
      "outputs": [
        {
          "output_type": "execute_result",
          "data": {
            "text/plain": [
              "array([68.7089], dtype=float32)"
            ]
          },
          "metadata": {
            "tags": []
          },
          "execution_count": 97
        }
      ]
    },
    {
      "cell_type": "code",
      "metadata": {
        "colab": {
          "base_uri": "https://localhost:8080/"
        },
        "id": "YpsT-9eKrJTH",
        "outputId": "32d3b6fb-8882-4485-c4fd-ff51383d4d88"
      },
      "source": [
        "rms = mean_squared_error(Y_train, predictions, squared=False)\n",
        "print(rms)"
      ],
      "execution_count": null,
      "outputs": [
        {
          "output_type": "stream",
          "text": [
            "2.26801842628608\n"
          ],
          "name": "stdout"
        }
      ]
    },
    {
      "cell_type": "code",
      "metadata": {
        "id": "dIGhcuuUJZzM"
      },
      "source": [
        "######################################################################### Support Vector Machine ################################################################################"
      ],
      "execution_count": null,
      "outputs": []
    },
    {
      "cell_type": "code",
      "metadata": {
        "colab": {
          "base_uri": "https://localhost:8080/"
        },
        "id": "0afZbm0cJgRV",
        "outputId": "1f2d1a1e-25d3-45ea-89fc-d33f18bf1294"
      },
      "source": [
        "from sklearn.svm import SVR\n",
        "regressor = SVR(kernel = 'rbf')\n",
        "regressor.fit(x_train, Y_train)"
      ],
      "execution_count": null,
      "outputs": [
        {
          "output_type": "stream",
          "text": [
            "/usr/local/lib/python3.7/dist-packages/sklearn/utils/validation.py:760: DataConversionWarning: A column-vector y was passed when a 1d array was expected. Please change the shape of y to (n_samples, ), for example using ravel().\n",
            "  y = column_or_1d(y, warn=True)\n"
          ],
          "name": "stderr"
        },
        {
          "output_type": "execute_result",
          "data": {
            "text/plain": [
              "SVR(C=1.0, cache_size=200, coef0=0.0, degree=3, epsilon=0.1, gamma='scale',\n",
              "    kernel='rbf', max_iter=-1, shrinking=True, tol=0.001, verbose=False)"
            ]
          },
          "metadata": {
            "tags": []
          },
          "execution_count": 55
        }
      ]
    },
    {
      "cell_type": "code",
      "metadata": {
        "id": "nVZb8DdVKydU"
      },
      "source": [
        "predictions = regressor.predict(x_train)"
      ],
      "execution_count": null,
      "outputs": []
    },
    {
      "cell_type": "code",
      "metadata": {
        "colab": {
          "base_uri": "https://localhost:8080/"
        },
        "id": "Pt85sqkFLQ49",
        "outputId": "7475fb80-a61a-44c2-c500-350730bc264d"
      },
      "source": [
        "print(predictions)"
      ],
      "execution_count": null,
      "outputs": [
        {
          "output_type": "stream",
          "text": [
            "[66.13472132 65.44265992 64.7407122  ... 39.76681706 39.76618693\n",
            " 39.76908028]\n"
          ],
          "name": "stdout"
        }
      ]
    },
    {
      "cell_type": "code",
      "metadata": {
        "colab": {
          "base_uri": "https://localhost:8080/"
        },
        "id": "PbiE-rP6K7oW",
        "outputId": "917d2843-804b-476e-f97f-e063c934a563"
      },
      "source": [
        "rms = mean_squared_error(Y_train, predictions, squared=False)\n",
        "print(rms)"
      ],
      "execution_count": null,
      "outputs": [
        {
          "output_type": "stream",
          "text": [
            "6.221653280478926\n"
          ],
          "name": "stdout"
        }
      ]
    }
  ]
}